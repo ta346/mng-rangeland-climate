# main packages
# import geemap
import ee
# import geopandas as gpd


try:
        ee.Initialize()
except Exception as e:
        ee.Authenticate('')
        ee.Initialize()


# import local files
import main
import indices





# Import area of interest
# bags = ee.FeatureCollection('users/ta346/mng_grassland/mng_nso_bag')
# soums = ee.FeatureCollection('users/ta346/mng_boundary_cleaned/mn_soum_cln')
soums = ee.FeatureCollection('projects/mng-rangeland-climate/assets/mn_soum_cln')
soums_2 = ee.FeatureCollection('projects/mng-rangeland-climate/assets/gadm41_MNG_2')

#import seasonal
# winter - 1, summer - 2, pasture-not-used - 3
# pasture = ee.Image("users/ta346/pasture_delineation/pas_raster_new")
pasture = ee.Image("projects/replicate-mng-rangeland/assets/pas_raster_new")

# import landcover (20m) tiff image from asset in Google Earth Engine
# [10, 20, 60, 80, 100]
# search what files are in the GEE asset folder geemap.ee_search()
# lc2020 = ee.Image('users/ta346/mng_landcover_30m/2020LC30').clip(soums).select('b1')
# lc2010 = ee.Image('users/ta346/mng_landcover_30m/2010LC30').clip(soums).select('b1')
# lc2000 = ee.Image('users/ta346/mng_landcover_30m/2000LC30').clip(soums).select('b1')

# vegetation index interests 
index_need = ['ndvi', 'evi', 'savi', 'msavi', 'nirv', 'ndwi']


startdate = '2024-01-01'
enddate = '2024-12-31'





# cloud free landsat collection
landsat_collection = main.get_landsat_collection(dateIni=startdate, # initial date
                                                        dateEnd=enddate, # end date
                                                        box=soums, # area of interest
                                                        perc_cover=50, # only images where more than 50% of pixels are cloud free
                                                        sensor=["LC08", "LE07", "LT05"], # search for all available sensors
                                                        harmonization=True) # ETM and ETM+ to OLI


# Compute vegetation indices on cloud free landsat collection
landsat_collection = (landsat_collection.map(indices.ndvi(nir= "SR_B4", red = "SR_B3", bandname = "ndvi"))
                                   .map(indices.evi(nir = "SR_B4", red = "SR_B3", blue = "SR_B1", G = 2.5, C1 = 6, C2 = 7.5, L=1, bandname='evi'))
                                   .map(indices.savi(nir = "SR_B4", red = "SR_B3", L = 0.5, G = 1.5, bandname="savi"))
                                   .map(indices.msavi(nir = "SR_B4", red = "SR_B3", G = 2, H = 8, L = 1, bandname="msavi"))
                                   .map(indices.nirv(nir = "SR_B4", red = "SR_B3", bandname="nirv"))
                                   .map(indices.ndwi(nir = "SR_B4", swir = "SR_B5", bandname="ndwi")))


# save each resulting CSV's to Google Drive Folder 
# this exports landsat collection per year on three different sceneries:
    # a. winter grazing ranges (wgr)
    # b. summer grazing ranges (sgr)
    # c. both grazing ranges (gr)
    
# create a list of names for mask
download = ['sgr']

for i in download:
    other_mask = pasture
    if i == 'wgr':
        other_mask_parameter = [2,3]
    elif i == 'sgr':
        other_mask_parameter = [1,3]
    elif i == 'gr':
        other_mask_parameter = [0]
    file_name = "MNG_" + str(i).upper() + "_" + "VEGI_LANDSAT_30m"
    folder_name = str(i).upper() + "_" + "SOUM_LANDSAT_VEG"

    # download each image per year as csv file over area of interest at soum level
    comp = main.download_img_col_to_csv_monthly(landsat_collection, 
                                                    startYear = 2023,
                                                    endYear = 2023,
                                                    startMonth = 1,
                                                    endMonth = 12,
                                                    bandnames = index_need, 
                                                    box = soums, 
                                                    reducerAll = True,
                                                    feat_name='asid', 
                                                    scale = 30,
                                                    tileScale = 1,
                                                    other_mask = other_mask,
                                                    other_mask_parameter = other_mask_parameter,  
                                                    crs = "EPSG:4326", 
                                                    file_name = file_name,
                                                    folder_name=folder_name)





# modis46A cloudless image collection
modis46a = main.get_modis46a_500_collection(dateIni='2023-01-01', 
                                                dateEnd='2023-12-31', 
                                                box = soums, 
                                                quality_mask=True)


# Compute vegetation indices on cloud free landsat collection
modis46a = (modis46a.map(indices.ndvi(nir = "Nadir_Reflectance_Band2", red = 'Nadir_Reflectance_Band1', bandname='ndvi'))
                .map(indices.evi(nir = 'Nadir_Reflectance_Band2', red = 'Nadir_Reflectance_Band1', blue = 'Nadir_Reflectance_Band3', bandname='evi'))
                .map(indices.savi(nir = 'Nadir_Reflectance_Band2', red = 'Nadir_Reflectance_Band1', bandname='savi'))
                .map(indices.msavi(nir = 'Nadir_Reflectance_Band2', red = 'Nadir_Reflectance_Band1', bandname='msavi'))
                .map(indices.nirv(nir = 'Nadir_Reflectance_Band2', red = 'Nadir_Reflectance_Band1', bandname='nirv'))
                .map(indices.ndwi(nir = "Nadir_Reflectance_Band2", swir = "Nadir_Reflectance_Band6", bandname="ndwi")))


# create a list of names for mask
download = ['sgr']

# save each image collection per year
for i in download:
    other_mask = pasture
    if i == 'wgr':
        other_mask_parameter = [2,3]
    elif i == 'sgr':
        other_mask_parameter = [1,3]
    elif i == 'gr':
        other_mask_parameter = [0]
    file_name = "MNG" + "_" + str(i).upper() + "_" + "VEGI_MODIS_500m"
    folder_name = str(i).upper() + "_" + "SOUM_MODIS_VEG"

    # download each image per year as csv file over area of interest at soum level
    comp = main.download_img_col_to_csv_monthly(modis46a, 
                                                    startYear = 2023,
                                                    endYear = 2023,
                                                    startMonth = 1,
                                                    endMonth = 12,
                                                    bandnames = index_need, 
                                                    box = soums, 
                                                    reducerAll = True,
                                                    feat_name='asid', 
                                                    scale = 500,
                                                    tileScale = 1,
                                                    other_mask = other_mask,
                                                    other_mask_parameter = other_mask_parameter,  
                                                    crs = "EPSG:4326", 
                                                    file_name = file_name,
                                                    folder_name=folder_name)





download_weather_gr = ['wgr', 'sgr']


# band names
select_band = ["temperature_2m", 
               "snow_cover", 
               "snow_density", 
               "snow_depth", 
               "snow_depth_water_equivalent", 
               "snowfall_hourly", 
               "snowmelt_hourly", 
               "u_component_of_wind_10m", 
               "v_component_of_wind_10m", 
               "total_precipitation_hourly"]


# era5 = main.get_era5_collection('1985-01-01', '2023-12-31', soums, select_band)
era5 = main.get_era5_collection(startdate, enddate, soums, select_band)























# download each image per year as csv file over area of interest at soum level
comp = main.download_img_col_to_csv_monthly(era5, 
                                            startYear = 2024,
                                            endYear = 2024,
                                            startMonth = 1,
                                            endMonth = 12,
                                            bandnames = select_band, 
                                            box = soums_2, 
                                            reducerAll = True,
                                            feat_name='GID_2', 
                                            scale = 9000,
                                            tileScale = 1,
                                            crs = "EPSG:4326", 
                                            file_name = "MNG_GADM_WTHR_ERA5_9KM",
                                            folder_name="WTHR_GADM_ERA5")


file_name = "MNG_" + "SGR" + "_" + "WTHR_ERA5_9KM"
other_mask = pasture
other_mask_parameter = [1,3]

# download each image per year as csv file over area of interest at soum level
comp = main.download_img_col_to_csv_monthly(era5, 
                                            startYear = 2024,
                                            endYear = 2024,
                                            startMonth = 1,
                                            endMonth = 2,
                                            bandnames = select_band, 
                                            box = soums, 
                                            reducerAll = True,
                                            feat_name='asid', 
                                            scale = 9000,
                                            tileScale = 1,
                                            other_mask = other_mask,
                                            other_mask_parameter = other_mask_parameter,  
                                            crs = "EPSG:4326", 
                                            file_name = file_name,
                                            folder_name="SOUM_ERA_WEATHER_2024")


# save each image collection as CSV's per month to Google Drive Folder 
for i in download_weather_gr:
    other_mask = pasture
    if i == 'wgr':
        other_mask_parameter = [2,3]
    elif i == 'sgr':
        other_mask_parameter = [1,3]
    elif i == 'gr':
        other_mask_parameter = [0]
    file_name = "MNG_" + str(i).upper() + "_" + "WTHR_ERA5_9KM"
    folder_name = str(i).upper() + "_" + "SOUM_ERA_WEATHER"
    
    print(i)
    print(file_name)
    print(folder_name)
    
    # download each image per year as csv file over area of interest at soum level
    comp = main.download_img_col_to_csv_monthly(era5, 
                                                    startYear = 2023,
                                                    endYear = 2023,
                                                    startMonth = 1,
                                                    endMonth = 12,
                                                    bandnames = select_band, 
                                                    box = soums, 
                                                    reducerAll = True,
                                                    feat_name='asid', 
                                                    scale = 9000,
                                                    tileScale = 1,
                                                    other_mask = other_mask,
                                                    other_mask_parameter = other_mask_parameter,  
                                                    crs = "EPSG:4326", 
                                                    file_name = file_name,
                                                    folder_name=folder_name)





buffer_100m = ee.FeatureCollection("users/ta346/bm_buffer/bm_buffer_100m")
buffer_50m = ee.FeatureCollection("users/ta346/bm_buffer/bm_buffer_56m")

df = geemap.ee_to_geopandas(buffer_100m, selectors = ['GID', 'asid'])
df1 = geemap.ee_to_geopandas(buffer_50m, selectors = ['GID', 'asid'])

df["gid_asid"] = df['GID']*10000 + df['asid']
df1["gid_asid"] = df1['GID']*10000 + df1['asid']

df.crs = "EPSG:4326"
df1.crs = "EPSG:4326"

buffer_100m = geemap.geopandas_to_ee(df)
buffer_56m = geemap.geopandas_to_ee(df1)


download = ['sgr']


def download_images(collection, box, folder_name, collection_name, buffer_size, scale, index_need):
    comp = main.download_img_col_to_csv_monthly(
        collection,
        startYear=2023,
        endYear=2023,
        startMonth=1,
        endMonth=12,
        bandnames=index_need,
        box=box,
        reducerAll=True,
        feat_name='gid_asid',
        scale=scale,
        tileScale=1,
        crs="EPSG:4326",
        file_name=f"MNG_VEGI_{collection_name}_{scale}m_plot{buffer_size}m",
        folder_name=folder_name
    )
    return comp

# Download Landsat images for buffer_56m and buffer_100m
download_images(modis46a, buffer_56m, folder_name = "PLOT56", collection_name = "MODIS", buffer_size = 56, scale = 500, index_need = index_need)
download_images(modis46a, buffer_100m, folder_name = "PLOT100", collection_name = "MODIS", buffer_size = 100, scale = 500, index_need = index_need)

# # Download Landsat images for buffer_56m and buffer_100m
# download_images(landsat_collection, buffer_56m, folder_name = "PLOT56", collection_name = "LANDSAT", buffer_size = 56, scale = 30, index_need = index_need)
# download_images(landsat_collection, buffer_100m, folder_name = "PLOT100", collection_name = "LANDSAT", buffer_size = 100, scale = 30, index_need = index_need)

