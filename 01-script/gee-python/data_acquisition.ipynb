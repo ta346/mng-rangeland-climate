{
 "cells": [
  {
   "cell_type": "code",
   "execution_count": 1,
   "metadata": {},
   "outputs": [],
   "source": [
    "try:\n",
    "    import geemap, ee\n",
    "except ModuleNotFoundError:\n",
    "    if 'google.colab' in str(get_ipython()):\n",
    "        print(\"package not found, installing w/ pip in Google Colab...\")\n",
    "        !pip install geemap\n",
    "    else:\n",
    "        print(\"package not found, installing w/ conda...\")\n",
    "        !conda install mamba -c conda-forge -y\n",
    "        !mamba install geemap -c conda-forge -y\n",
    "    import geemap, ee"
   ]
  },
  {
   "cell_type": "code",
   "execution_count": 2,
   "metadata": {},
   "outputs": [],
   "source": [
    "try:\n",
    "        ee.Initialize()\n",
    "except Exception as e:\n",
    "        ee.Authenticate()\n",
    "        ee.Initialize()"
   ]
  },
  {
   "cell_type": "code",
   "execution_count": 3,
   "metadata": {},
   "outputs": [],
   "source": [
    "# import local files\n",
    "import main\n",
    "import indices\n",
    "import utils\n",
    "import mask"
   ]
  },
  {
   "cell_type": "markdown",
   "metadata": {},
   "source": [
    "### General Workflow\n",
    "\n",
    "1. Import the area of interest (soum shapefile is first uploaded to GEE asset)\n",
    "2. Import mask areas (Soum Seasonal Range Areas)\n",
    "3. Filter data\n",
    "    - Date\n",
    "    - Cloud Coverage\n",
    "    - Best pixel\n",
    "4. Apply functions\n",
    "    - Landsat sensors harmonization\n",
    "    - Cloudless pixels\n",
    "    - Vegetation indices\n",
    "    - Custom masks\n",
    "5. Download datasets per month and year per soum \n"
   ]
  },
  {
   "cell_type": "code",
   "execution_count": 4,
   "metadata": {},
   "outputs": [],
   "source": [
    "# Import area of interest\n",
    "# bags = ee.FeatureCollection('users/ta346/mng_grassland/mng_nso_bag')\n",
    "soums = ee.FeatureCollection('users/ta346/mng_boundary_cleaned/mn_soum_cln')"
   ]
  },
  {
   "cell_type": "code",
   "execution_count": 5,
   "metadata": {},
   "outputs": [],
   "source": [
    "#import seasonal\n",
    "# winter - 1, summer - 2, pasture-not-used - 3\n",
    "pasture = ee.Image(\"users/ta346/pasture_delineation/pas_raster_new\")\n",
    "# import landcover (20m) tiff image from asset in Google Earth Engine\n",
    "# [10, 20, 60, 80, 100]\n",
    "# search what files are in the GEE asset folder geemap.ee_search()\n",
    "lc2020 = ee.Image('users/ta346/mng_landcover_30m/2020LC30').clip(soums).select('b1')\n",
    "lc2010 = ee.Image('users/ta346/mng_landcover_30m/2010LC30').clip(soums).select('b1')\n",
    "lc2000 = ee.Image('users/ta346/mng_landcover_30m/2000LC30').clip(soums).select('b1')"
   ]
  },
  {
   "cell_type": "markdown",
   "metadata": {},
   "source": [
    "### 1. Landsat Collection "
   ]
  },
  {
   "cell_type": "code",
   "execution_count": 6,
   "metadata": {},
   "outputs": [],
   "source": [
    "# cloud free landsat collection\n",
    "landsat_collection = main.get_landsat_collection(dateIni='2022-01-01', # initial date\n",
    "                                                        dateEnd='2023-12-31', # end date\n",
    "                                                        box=soums, # area of interest\n",
    "                                                        perc_cover=50, # only images where more than 50% of pixels are cloud free\n",
    "                                                        sensor=[\"LC08\", \"LE07\", \"LT05\"], # search for all available sensors\n",
    "                                                        harmonization=True) # ETM and ETM+ to OLI"
   ]
  },
  {
   "cell_type": "code",
   "execution_count": 7,
   "metadata": {},
   "outputs": [],
   "source": [
    "# Compute vegetation indices on cloud free landsat collection\n",
    "landsat_collection = (landsat_collection.map(indices.ndvi(nir= \"SR_B4\", red = \"SR_B3\", bandname = \"ndvi\"))\n",
    "                                   .map(indices.evi(nir = \"SR_B4\", red = \"SR_B3\", blue = \"SR_B1\", G = 2.5, C1 = 6, C2 = 7.5, L=1, bandname='evi'))\n",
    "                                   .map(indices.savi(nir = \"SR_B4\", red = \"SR_B3\", L = 0.5, G = 1.5, bandname=\"savi\"))\n",
    "                                   .map(indices.msavi(nir = \"SR_B4\", red = \"SR_B3\", G = 2, H = 8, L = 1, bandname=\"msavi\"))\n",
    "                                   .map(indices.nirv(nir = \"SR_B4\", red = \"SR_B3\", bandname=\"nirv\"))\n",
    "                                   .map(indices.ndwi(nir = \"SR_B4\", swir = \"SR_B5\", bandname=\"ndwi\")))\n",
    "# vegetation index interests \n",
    "index_need_landsat = ['ndvi', 'evi', 'savi', 'msavi', 'nirv', 'ndwi']"
   ]
  },
  {
   "cell_type": "code",
   "execution_count": 8,
   "metadata": {},
   "outputs": [],
   "source": [
    "# save each resulting CSV's to Google Drive Folder \n",
    "# this exports landsat collection per year on three different sceneries:\n",
    "    # a. winter grazing ranges (wgr)\n",
    "    # b. summer grazing ranges (sgr)\n",
    "    # c. both grazing ranges (gr)\n",
    "# create a list of names for mask\n",
    "download = ['sgr']\n",
    "\n",
    "for i in download:\n",
    "    other_mask = pasture\n",
    "    if i == 'wgr':\n",
    "        other_mask_parameter = [2,3]\n",
    "    elif i == 'sgr':\n",
    "        other_mask_parameter = [1,3]\n",
    "    elif i == 'gr':\n",
    "        other_mask_parameter = [0]\n",
    "    file_name = \"MNG_\" + str(i).upper() + \"_\" + \"VEGI_LANDSAT_30m\"\n",
    "    folder_name = str(i).upper() + \"_\" + \"SOUM_LANDSAT_VEG\"\n",
    "\n",
    "    # download each image per year as csv file over area of interest at soum level\n",
    "    comp = main.download_img_col_to_csv_monthly(landsat_collection, \n",
    "                                                    startYear = 2022,\n",
    "                                                    endYear = 2023,\n",
    "                                                    startMonth = 1,\n",
    "                                                    endMonth = 12,\n",
    "                                                    bandnames = index_need_landsat, \n",
    "                                                    box = soums, \n",
    "                                                    reducerAll = True,\n",
    "                                                    feat_name='asid', \n",
    "                                                    scale = 30,\n",
    "                                                    tileScale = 1,\n",
    "                                                    other_mask = other_mask,\n",
    "                                                    other_mask_parameter = other_mask_parameter,  \n",
    "                                                    crs = \"EPSG:4326\", \n",
    "                                                    file_name = file_name,\n",
    "                                                    folder_name=folder_name)"
   ]
  },
  {
   "cell_type": "markdown",
   "metadata": {},
   "source": [
    "### 2. MODIS43A"
   ]
  },
  {
   "cell_type": "code",
   "execution_count": 13,
   "metadata": {},
   "outputs": [],
   "source": [
    "# modis46A cloudless image collection\n",
    "modis46a = main.get_modis46a_500_collection(dateIni='2022-01-01', \n",
    "                                                dateEnd='2023-12-31', \n",
    "                                                box = soums, \n",
    "                                                quality_mask=True)"
   ]
  },
  {
   "cell_type": "code",
   "execution_count": 14,
   "metadata": {},
   "outputs": [],
   "source": [
    "# Compute vegetation indices on cloud free landsat collection\n",
    "modis46a = (modis46a.map(indices.ndvi(nir = \"Nadir_Reflectance_Band2\", red = 'Nadir_Reflectance_Band1', bandname='ndvi'))\n",
    "                .map(indices.evi(nir = 'Nadir_Reflectance_Band2', red = 'Nadir_Reflectance_Band1', blue = 'Nadir_Reflectance_Band3', bandname='evi'))\n",
    "                .map(indices.savi(nir = 'Nadir_Reflectance_Band2', red = 'Nadir_Reflectance_Band1', bandname='savi'))\n",
    "                .map(indices.msavi(nir = 'Nadir_Reflectance_Band2', red = 'Nadir_Reflectance_Band1', bandname='msavi'))\n",
    "                .map(indices.nirv(nir = 'Nadir_Reflectance_Band2', red = 'Nadir_Reflectance_Band1', bandname='nirv')))\n",
    "# vegetation index interests \n",
    "index_need_modis = ['ndvi', 'evi', 'savi', 'msavi', 'nirv']"
   ]
  },
  {
   "cell_type": "code",
   "execution_count": 8,
   "metadata": {},
   "outputs": [],
   "source": [
    "# create a list of names for mask\n",
    "download = ['sgr']\n",
    "\n",
    "# save each image collection per year\n",
    "for i in download:\n",
    "    other_mask = pasture\n",
    "    if i == 'wgr':\n",
    "        other_mask_parameter = [2,3]\n",
    "    elif i == 'sgr':\n",
    "        other_mask_parameter = [1,3]\n",
    "    elif i == 'gr':\n",
    "        other_mask_parameter = [0]\n",
    "    file_name = \"MNG\" + \"_\" + str(i).upper() + \"_\" + \"VEGI_MODIS_500m\"\n",
    "    folder_name = str(i).upper() + \"_\" + \"SOUM_MODIS_VEG\"\n",
    "\n",
    "    # download each image per year as csv file over area of interest at soum level\n",
    "    comp = main.download_img_col_to_csv_monthly(modis46a, \n",
    "                                                    startYear = 2022,\n",
    "                                                    endYear = 2023,\n",
    "                                                    startMonth = 1,\n",
    "                                                    endMonth = 12,\n",
    "                                                    bandnames = index_need_modis, \n",
    "                                                    box = soums, \n",
    "                                                    reducerAll = True,\n",
    "                                                    feat_name='asid', \n",
    "                                                    scale = 500,\n",
    "                                                    tileScale = 1,\n",
    "                                                    other_mask = other_mask,\n",
    "                                                    other_mask_parameter = other_mask_parameter,  \n",
    "                                                    crs = \"EPSG:4326\", \n",
    "                                                    file_name = file_name,\n",
    "                                                    folder_name=folder_name)"
   ]
  },
  {
   "cell_type": "markdown",
   "metadata": {},
   "source": [
    "### 3. Weather"
   ]
  },
  {
   "cell_type": "code",
   "execution_count": null,
   "metadata": {},
   "outputs": [],
   "source": [
    "download = ['sgr', 'wgr']"
   ]
  },
  {
   "cell_type": "code",
   "execution_count": null,
   "metadata": {},
   "outputs": [],
   "source": [
    "# band names\n",
    "select_band = [\"temperature_2m\", \n",
    "               \"snow_cover\", \n",
    "               \"snow_density\", \n",
    "               \"snow_depth\", \n",
    "               \"snow_depth_water_equivalent\", \n",
    "               \"snowfall\", \n",
    "               \"snowmelt\", \n",
    "               \"u_component_of_wind_10m\", \n",
    "               \"v_component_of_wind_10m\", \n",
    "               \"total_precipitation\"]"
   ]
  },
  {
   "cell_type": "code",
   "execution_count": null,
   "metadata": {},
   "outputs": [],
   "source": [
    "# get era5 collection\n",
    "era5 = main.get_era5_collection('2022-01-01', '2023-12-31', soums, select_band)"
   ]
  },
  {
   "cell_type": "code",
   "execution_count": null,
   "metadata": {},
   "outputs": [],
   "source": [
    "# save each image collection as CSV's per month to Google Drive Folder \n",
    "for i in download:\n",
    "    other_mask = pasture\n",
    "    if i == 'wgr':\n",
    "        other_mask_parameter = [2,3]\n",
    "    elif i == 'sgr':\n",
    "        other_mask_parameter = [1,3]\n",
    "    elif i == 'gr':\n",
    "        other_mask_parameter = [0]\n",
    "    file_name = str(i) + \"_\" + \"weather\"\n",
    "    folder_name = str(i).upper() + \"_\" + \"SOUM_ERA_WEATHER\"\n",
    "\n",
    "    # download each image per year as csv file over area of interest at soum level\n",
    "    comp = main.download_img_col_to_csv_monthly(era5, \n",
    "                                                    startYear = 2022,\n",
    "                                                    endYear = 2023,\n",
    "                                                    startMonth = 1,\n",
    "                                                    endMonth = 12,\n",
    "                                                    bandnames = select_band, \n",
    "                                                    box = soums, \n",
    "                                                    reducerAll = True,\n",
    "                                                    feat_name='asid', \n",
    "                                                    scale = 9000,\n",
    "                                                    tileScale = 1,\n",
    "                                                    other_mask = other_mask,\n",
    "                                                    other_mask_parameter = other_mask_parameter,  \n",
    "                                                    crs = \"EPSG:4326\", \n",
    "                                                    file_name = file_name,\n",
    "                                                    folder_name=folder_name)"
   ]
  },
  {
   "cell_type": "markdown",
   "metadata": {},
   "source": [
    "### Buffer Area (56m and 100m) vegitation indices"
   ]
  },
  {
   "cell_type": "code",
   "execution_count": 32,
   "metadata": {},
   "outputs": [],
   "source": [
    "buffer_100m = ee.FeatureCollection(\"users/ta346/bm_buffer/bm_buffer_100m\")\n",
    "buffer_50m = ee.FeatureCollection(\"users/ta346/bm_buffer/bm_buffer_56m\")\n",
    "\n",
    "df = geemap.ee_to_geopandas(buffer_100m, selectors = ['GID', 'asid'])\n",
    "df1 = geemap.ee_to_geopandas(buffer_50m, selectors = ['GID', 'asid'])\n",
    "\n",
    "df[\"gid_asid\"] = df['GID']*10000 + df['asid']\n",
    "df1[\"gid_asid\"] = df1['GID']*10000 + df1['asid']\n",
    "\n",
    "df.crs = \"EPSG:4326\"\n",
    "df1.crs = \"EPSG:4326\"\n",
    "\n",
    "buffer_100m = geemap.geopandas_to_ee(df)\n",
    "buffer_56m = geemap.geopandas_to_ee(df1)"
   ]
  },
  {
   "cell_type": "code",
   "execution_count": 33,
   "metadata": {},
   "outputs": [],
   "source": [
    "download = ['sgr']"
   ]
  },
  {
   "cell_type": "code",
   "execution_count": 35,
   "metadata": {},
   "outputs": [],
   "source": [
    "def download_images(collection, box, folder_name, collection_name, buffer_size, scale, index_need):\n",
    "    comp = main.download_img_col_to_csv_monthly(\n",
    "        collection,\n",
    "        startYear=2023,\n",
    "        endYear=2023,\n",
    "        startMonth=9,\n",
    "        endMonth=9,\n",
    "        bandnames=index_need,\n",
    "        box=box,\n",
    "        reducerAll=True,\n",
    "        feat_name='gid_asid',\n",
    "        scale=scale,\n",
    "        tileScale=1,\n",
    "        crs=\"EPSG:4326\",\n",
    "        file_name=f\"MNG_VEGI_{collection_name}_{scale}m_plot{buffer_size}m\",\n",
    "        folder_name=folder_name\n",
    "    )\n",
    "    return comp\n",
    "\n",
    "# # Download Landsat images for buffer_56m and buffer_100m\n",
    "download_images(landsat_collection, buffer_56m, folder_name = \"PLOT56\", collection_name = \"LANDSAT\", buffer_size = 56, scale = 30, index_need = index_need_landsat)\n",
    "download_images(landsat_collection, buffer_100m, folder_name = \"PLOT100\", collection_name = \"LANDSAT\", buffer_size = 100, scale = 30, index_need = index_need_landsat)\n",
    "\n",
    "# Download Landsat images for buffer_56m and buffer_100m\n",
    "# download_images(modis46a, buffer_56m, folder_name = \"PLOT56\", collection_name = \"MODIS\", buffer_size = 56, scale = 500, index_need = index_need_modis)\n",
    "# download_images(modis46a, buffer_100m, folder_name = \"PLOT100\", collection_name = \"MODIS\", buffer_size = 100, scale = 500, index_need = index_need_modis)"
   ]
  },
  {
   "cell_type": "code",
   "execution_count": null,
   "metadata": {},
   "outputs": [],
   "source": [
    "import pandas as pd\n",
    "\n",
    "old = pd.read_csv('C://Users//Owner//Downloads//Telegram Desktop//MNG_VEGI_LANDSAT_30m_plot100m_2022_12.csv')\n",
    "new = pd.read_csv('C://Users//Owner//Downloads//MNG_VEGI_LANDSAT_30m_plot100m_2022_12_1.csv')"
   ]
  },
  {
   "cell_type": "code",
   "execution_count": null,
   "metadata": {},
   "outputs": [],
   "source": [
    "(old.shape), (new.shape)"
   ]
  }
 ],
 "metadata": {
  "kernelspec": {
   "display_name": "earth-analytics",
   "language": "python",
   "name": "python3"
  },
  "language_info": {
   "codemirror_mode": {
    "name": "ipython",
    "version": 3
   },
   "file_extension": ".py",
   "mimetype": "text/x-python",
   "name": "python",
   "nbconvert_exporter": "python",
   "pygments_lexer": "ipython3",
   "version": "3.7.12"
  },
  "orig_nbformat": 4,
  "vscode": {
   "interpreter": {
    "hash": "21fa5e253bdcd18fee09e2a9523205eaf4117f21d33bb29bb2671d84689196ee"
   }
  }
 },
 "nbformat": 4,
 "nbformat_minor": 2
}
